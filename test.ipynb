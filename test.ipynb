{
 "cells": [
  {
   "cell_type": "code",
   "execution_count": 97,
   "metadata": {},
   "outputs": [],
   "source": [
    "import numpy as np\n",
    "\n",
    "class Ellipse:\n",
    "    def __init__(self, a, b):\n",
    "        self.a = a\n",
    "        self.b = b\n",
    "\n",
    "    def tangent_angle(self, t_degrees):\n",
    "        # Convert angle from degrees to radians\n",
    "        t_radians = np.radians(t_degrees)\n",
    "\n",
    "        # Calculate the derivatives dy/dt and dx/dt\n",
    "        dy_dt = self.b * np.cos(t_radians)\n",
    "        dx_dt = -self.a * np.sin(t_radians)\n",
    "\n",
    "        # Calculate the slope of the tangent line (dy/dx) at the point (a*cos(t), b*sin(t))\n",
    "        slope_tangent = dy_dt / dx_dt\n",
    "\n",
    "        # Calculate the angle between the tangent and the line passing through the origin and (a*cos(t), b*sin(t))\n",
    "        angle_origin = np.arctan2(self.b * np.sin(t_radians), self.a * np.cos(t_radians))\n",
    "        angle_tangent = np.arctan2(slope_tangent, 1)  # Equivalent to np.arctan(slope_tangent)\n",
    "\n",
    "        # Calculate the angle difference (absolute value for the acute angle)\n",
    "        angle_difference = np.abs(angle_origin - angle_tangent)\n",
    "\n",
    "        # Convert the angle difference from radians to degrees using NumPy\n",
    "        angle_difference_degrees = np.degrees(angle_difference)\n",
    "\n",
    "        return angle_difference_degrees\n"
   ]
  },
  {
   "cell_type": "code",
   "execution_count": 98,
   "metadata": {},
   "outputs": [],
   "source": [
    "ellipse = Ellipse(6378,6357)"
   ]
  },
  {
   "cell_type": "code",
   "execution_count": 99,
   "metadata": {},
   "outputs": [
    {
     "data": {
      "text/plain": [
       "0.1889611745876465"
      ]
     },
     "execution_count": 99,
     "metadata": {},
     "output_type": "execute_result"
    }
   ],
   "source": [
    "np.abs(90-ellipse.tangent_angle(45))"
   ]
  }
 ],
 "metadata": {
  "kernelspec": {
   "display_name": "Python 3",
   "language": "python",
   "name": "python3"
  },
  "language_info": {
   "codemirror_mode": {
    "name": "ipython",
    "version": 3
   },
   "file_extension": ".py",
   "mimetype": "text/x-python",
   "name": "python",
   "nbconvert_exporter": "python",
   "pygments_lexer": "ipython3",
   "version": "3.9.6"
  },
  "orig_nbformat": 4
 },
 "nbformat": 4,
 "nbformat_minor": 2
}
